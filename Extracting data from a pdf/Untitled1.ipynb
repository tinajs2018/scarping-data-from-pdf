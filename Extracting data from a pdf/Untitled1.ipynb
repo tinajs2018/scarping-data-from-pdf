{
 "cells": [
  {
   "cell_type": "code",
   "execution_count": 10,
   "metadata": {},
   "outputs": [],
   "source": [
    "import PyPDF2 "
   ]
  },
  {
   "cell_type": "code",
   "execution_count": 11,
   "metadata": {},
   "outputs": [],
   "source": [
    "pdfFileObj = open('1.4 Public Speaking Success - How Anyone Can Become A Better Presenter.pdf.pdf', 'rb')"
   ]
  },
  {
   "cell_type": "code",
   "execution_count": 12,
   "metadata": {},
   "outputs": [],
   "source": [
    "# creating a pdf reader object \n",
    "pdfReader = PyPDF2.PdfFileReader(pdfFileObj) "
   ]
  },
  {
   "cell_type": "code",
   "execution_count": 13,
   "metadata": {},
   "outputs": [
    {
     "name": "stdout",
     "output_type": "stream",
     "text": [
      "31\n"
     ]
    }
   ],
   "source": [
    "# printing number of pages in pdf file \n",
    "print(pdfReader.numPages) "
   ]
  },
  {
   "cell_type": "code",
   "execution_count": 14,
   "metadata": {},
   "outputs": [],
   "source": [
    "# creating a page object \n",
    "pageObj = pdfReader.getPage(7)"
   ]
  },
  {
   "cell_type": "code",
   "execution_count": 15,
   "metadata": {},
   "outputs": [
    {
     "name": "stdout",
     "output_type": "stream",
     "text": [
      ">,$?![@\n",
      "!!-<0)*6,.<:!.*!$W0:?2$6J!D03,6!0*B!*+:5$<6!,.!\n",
      "D2$6#!.+,!7.+<!D)F$!:$660C$!?.)*,6@\n",
      "!!\"#)6!)6!,#$!,):$!,#0,!7.+!90*,!,.!C$,!022!.D!7.+<!,#.+C#,6!0*B!)B$06!B.9*!.*!\n",
      "?0?$<@!\"#)6!9)22!\n",
      "6,)22!\n",
      "*.,!5$!7.+<!D)*)6#$B!6?$$3#!.<!63<)?,@\n",
      "!!\n"
     ]
    }
   ],
   "source": [
    "# extracting text from page \n",
    "print(pageObj.extractText()) "
   ]
  },
  {
   "cell_type": "code",
   "execution_count": 7,
   "metadata": {},
   "outputs": [],
   "source": [
    "# closing the pdf file object \n",
    "pdfFileObj.close() "
   ]
  },
  {
   "cell_type": "code",
   "execution_count": null,
   "metadata": {},
   "outputs": [],
   "source": []
  }
 ],
 "metadata": {
  "kernelspec": {
   "display_name": "Python 3",
   "language": "python",
   "name": "python3"
  },
  "language_info": {
   "codemirror_mode": {
    "name": "ipython",
    "version": 3
   },
   "file_extension": ".py",
   "mimetype": "text/x-python",
   "name": "python",
   "nbconvert_exporter": "python",
   "pygments_lexer": "ipython3",
   "version": "3.7.4"
  }
 },
 "nbformat": 4,
 "nbformat_minor": 2
}
