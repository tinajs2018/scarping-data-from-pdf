{
 "cells": [
  {
   "cell_type": "code",
   "execution_count": 5,
   "metadata": {},
   "outputs": [],
   "source": [
    "#Extracting vital library\n",
    "import PyPDF2"
   ]
  },
  {
   "cell_type": "code",
   "execution_count": 26,
   "metadata": {},
   "outputs": [
    {
     "data": {
      "text/plain": [
       "<_io.BufferedReader name='Data Science and Analytics with Python ( PDFDrive ).pdf'>"
      ]
     },
     "execution_count": 26,
     "metadata": {},
     "output_type": "execute_result"
    }
   ],
   "source": [
    "#creating a pdf file\n",
    "pdffile=open('Data Science and Analytics with Python ( PDFDrive ).pdf','rb')\n",
    "pdffile"
   ]
  },
  {
   "cell_type": "code",
   "execution_count": 27,
   "metadata": {},
   "outputs": [],
   "source": [
    "#creating a pdf reader object\n",
    "# pdf_reader=PyPDF2.PdffIleReader(pdffile)\n",
    "pdfReader = PyPDF2.PdfFileReader(pdffile) "
   ]
  },
  {
   "cell_type": "code",
   "execution_count": 28,
   "metadata": {},
   "outputs": [
    {
     "name": "stdout",
     "output_type": "stream",
     "text": [
      "413\n"
     ]
    }
   ],
   "source": [
    "#printing the number of pages in the pdf\n",
    "print(pdfReader.numPages)"
   ]
  },
  {
   "cell_type": "code",
   "execution_count": 37,
   "metadata": {},
   "outputs": [],
   "source": [
    "#creating aa page  obejct which we want to scarp the data\n",
    "pageObj=pdfReader.getPage(90)\n"
   ]
  },
  {
   "cell_type": "code",
   "execution_count": 38,
   "metadata": {},
   "outputs": [],
   "source": [
    "pdfdata=pageObj.extractText()"
   ]
  },
  {
   "cell_type": "code",
   "execution_count": 39,
   "metadata": {},
   "outputs": [
    {
     "name": "stdout",
     "output_type": "stream",
     "text": [
      "54j\n",
      ".\n",
      "rogel\n",
      "-\n",
      "salazar\n",
      "Wecanalsoobtainthekey-valuepairsintheformofalist\n",
      "oftupleswiththe\n",
      "items()\n",
      "method:\n",
      ">print(dictio.items())\n",
      "dict\n",
      "_\n",
      "items([('spam','Lovelyspam'),('bacon',3),\n",
      "('eggs',1),('sausage',2)])\n",
      "Finally,itispossibletogetridofkey-valuepairswiththe\n",
      "useofthe\n",
      "del\n",
      "function:\n",
      "Wecanremoveentriesfroma\n",
      "dictionarywith\n",
      "del\n",
      ".\n",
      ">deldictio['bacon']\n",
      ">print(dictio)\n",
      "{'sausage':2,'eggs':1,'spam':'Lovelyspam'}\n",
      "2\n",
      ".\n",
      "3\n",
      "ControlFlow\n",
      "N\n",
      "otonlyisitimportant\n",
      "tounderstandthetypesand\n",
      "objectsthatareavailableinanyprogramminglanguage,but\n",
      "alsohowtocontrolthewofaprogrammetobeableto\n",
      "followthelogicbehindthewayinwhichtheprogramme\n",
      "itselfisorganised,inotherwords,theorderinwhichthe\n",
      "individualstatementsareexecuted.\n",
      "InparticularitisimportanttomentionthatinPython\n",
      "Whitespaceisameaningful\n",
      "characterinPython.\n",
      "thewhitespaceisameaningfulcharacterasitenablesthe\n",
      "ofblocksofcodebyhavingthesamelevelof\n",
      "indentation.Letusseesometypicalstructurestocontrolthe\n",
      "wofaprogrammeinPython.\n",
      "\n"
     ]
    }
   ],
   "source": [
    "print(pdfdata)"
   ]
  },
  {
   "cell_type": "code",
   "execution_count": 40,
   "metadata": {},
   "outputs": [
    {
     "name": "stdout",
     "output_type": "stream",
     "text": [
      "54j\n",
      ".\n",
      "rogel\n",
      "-\n",
      "salazar\n",
      "Wecanalsoobtainthekey-valuepairsintheformofalist\n",
      "oftupleswiththe\n",
      "items()\n",
      "method:\n",
      ">print(dictio.items())\n",
      "dict\n",
      "_\n",
      "items([('spam','Lovelyspam'),('bacon',3),\n",
      "('eggs',1),('sausage',2)])\n",
      "Finally,itispossibletogetridofkey-valuepairswiththe\n",
      "useofthe\n",
      "del\n",
      "function:\n",
      "Wecanremoveentriesfroma\n",
      "dictionarywith\n",
      "del\n",
      ".\n",
      ">deldictio['bacon']\n",
      ">print(dictio)\n",
      "{'sausage':2,'eggs':1,'spam':'Lovelyspam'}\n",
      "2\n",
      ".\n",
      "3\n",
      "ControlFlow\n",
      "N\n",
      "otonlyisitimportant\n",
      "tounderstandthetypesand\n",
      "objectsthatareavailableinanyprogramminglanguage,but\n",
      "alsohowtocontrolthewofaprogrammetobeableto\n",
      "followthelogicbehindthewayinwhichtheprogramme\n",
      "itselfisorganised,inotherwords,theorderinwhichthe\n",
      "individualstatementsareexecuted.\n",
      "InparticularitisimportanttomentionthatinPython\n",
      "Whitespaceisameaningful\n",
      "characterinPython.\n",
      "thewhitespaceisameaningfulcharacterasitenablesthe\n",
      "ofblocksofcodebyhavingthesamelevelof\n",
      "indentation.Letusseesometypicalstructurestocontrolthe\n",
      "wofaprogrammeinPython.\n",
      "\n"
     ]
    }
   ],
   "source": [
    "#extracting the data from the page\n",
    "print(pageObj.extractText())"
   ]
  },
  {
   "cell_type": "code",
   "execution_count": null,
   "metadata": {},
   "outputs": [],
   "source": []
  },
  {
   "cell_type": "code",
   "execution_count": null,
   "metadata": {},
   "outputs": [],
   "source": []
  }
 ],
 "metadata": {
  "kernelspec": {
   "display_name": "Python 3",
   "language": "python",
   "name": "python3"
  },
  "language_info": {
   "codemirror_mode": {
    "name": "ipython",
    "version": 3
   },
   "file_extension": ".py",
   "mimetype": "text/x-python",
   "name": "python",
   "nbconvert_exporter": "python",
   "pygments_lexer": "ipython3",
   "version": "3.7.4"
  }
 },
 "nbformat": 4,
 "nbformat_minor": 2
}
